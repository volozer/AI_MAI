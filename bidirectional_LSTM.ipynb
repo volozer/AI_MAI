{
  "cells": [
    {
      "cell_type": "markdown",
      "source": [
        "# Импорт библиотек, предобработка данных, токенизация и создание обучающих последовательностей, построение и компиляция модели"
      ],
      "metadata": {
        "id": "55-SlSY6g5JB"
      }
    },
    {
      "cell_type": "code",
      "execution_count": 15,
      "metadata": {
        "colab": {
          "base_uri": "https://localhost:8080/"
        },
        "id": "DXqINu8NxG0S",
        "outputId": "a0be9a5f-e975-465a-b901-7fac3721a3d3"
      },
      "outputs": [
        {
          "output_type": "stream",
          "name": "stdout",
          "text": [
            "Drive already mounted at /content/drive; to attempt to forcibly remount, call drive.mount(\"/content/drive\", force_remount=True).\n"
          ]
        }
      ],
      "source": [
        "import pandas as pd\n",
        "import numpy as np\n",
        "import tensorflow as tf\n",
        "from tensorflow.keras.preprocessing.text import Tokenizer\n",
        "from tensorflow.keras.preprocessing.sequence import pad_sequences\n",
        "from tensorflow.keras.models import Sequential\n",
        "from tensorflow.keras.layers import Embedding, LSTM, Bidirectional, Dense\n",
        "from tensorflow.keras.models import load_model\n",
        "\n",
        "\n",
        "from google.colab import drive\n",
        "drive.mount('/content/drive')\n",
        "\n",
        "\n",
        "data = pd.read_csv('/content/drive/MyDrive/movies_subtitles.csv')\n",
        "\n",
        "\n",
        "data['text'] = data['text'].fillna('')\n",
        "\n",
        "\n",
        "data = data.head(10000)\n",
        "\n",
        "\n",
        "tokenizer = Tokenizer()\n",
        "tokenizer.fit_on_texts(data['text'].values.tolist())\n",
        "total_words = len(tokenizer.word_index) + 1\n",
        "\n",
        "\n",
        "input_sequences = []\n",
        "for line in data['text'].values.tolist():\n",
        "    token_list = tokenizer.texts_to_sequences([line])[0]\n",
        "    for i in range(1, len(token_list)):\n",
        "        n_gram_sequence = token_list[:i+1]\n",
        "        input_sequences.append(n_gram_sequence)\n",
        "\n",
        "\n",
        "max_sequence_len = max([len(x) for x in input_sequences])\n",
        "\n",
        "\n",
        "input_sequences = np.array(pad_sequences(input_sequences, maxlen=max_sequence_len, padding='pre'))\n",
        "\n",
        "\n",
        "X, y = input_sequences[:,:-1],input_sequences[:,-1]\n",
        "y = tf.keras.utils.to_categorical(y, num_classes=total_words)\n",
        "\n",
        "\n",
        "model = Sequential()\n",
        "model.add(Embedding(total_words, 100, input_length=max_sequence_len-1))\n",
        "model.add(Bidirectional(LSTM(150)))\n",
        "model.add(Dense(total_words, activation='softmax'))\n"
      ]
    },
    {
      "cell_type": "markdown",
      "source": [
        "# Обучение модели"
      ],
      "metadata": {
        "id": "iFyyBveAhQsP"
      }
    },
    {
      "cell_type": "code",
      "execution_count": 16,
      "metadata": {
        "id": "JkWYpSQ27PJW",
        "colab": {
          "base_uri": "https://localhost:8080/"
        },
        "outputId": "3ecba6b8-57ae-4086-f0a8-8abe61bdc0c0"
      },
      "outputs": [
        {
          "output_type": "stream",
          "name": "stdout",
          "text": [
            "Epoch 1/30\n",
            "1788/1788 [==============================] - 29s 14ms/step - loss: 6.6005 - accuracy: 0.0510\n",
            "Epoch 2/30\n",
            "1788/1788 [==============================] - 17s 10ms/step - loss: 5.8786 - accuracy: 0.0892\n",
            "Epoch 3/30\n",
            "1788/1788 [==============================] - 19s 10ms/step - loss: 5.4197 - accuracy: 0.1211\n",
            "Epoch 4/30\n",
            "1788/1788 [==============================] - 18s 10ms/step - loss: 5.0431 - accuracy: 0.1421\n",
            "Epoch 5/30\n",
            "1788/1788 [==============================] - 19s 10ms/step - loss: 4.6981 - accuracy: 0.1631\n",
            "Epoch 6/30\n",
            "1788/1788 [==============================] - 18s 10ms/step - loss: 4.3712 - accuracy: 0.1888\n",
            "Epoch 7/30\n",
            "1788/1788 [==============================] - 17s 10ms/step - loss: 4.0592 - accuracy: 0.2213\n",
            "Epoch 8/30\n",
            "1788/1788 [==============================] - 17s 10ms/step - loss: 3.7640 - accuracy: 0.2588\n",
            "Epoch 9/30\n",
            "1788/1788 [==============================] - 18s 10ms/step - loss: 3.4920 - accuracy: 0.2979\n",
            "Epoch 10/30\n",
            "1788/1788 [==============================] - 18s 10ms/step - loss: 3.2451 - accuracy: 0.3359\n",
            "Epoch 11/30\n",
            "1788/1788 [==============================] - 18s 10ms/step - loss: 3.0205 - accuracy: 0.3745\n",
            "Epoch 12/30\n",
            "1788/1788 [==============================] - 18s 10ms/step - loss: 2.8174 - accuracy: 0.4079\n",
            "Epoch 13/30\n",
            "1788/1788 [==============================] - 18s 10ms/step - loss: 2.6312 - accuracy: 0.4426\n",
            "Epoch 14/30\n",
            "1788/1788 [==============================] - 18s 10ms/step - loss: 2.4631 - accuracy: 0.4734\n",
            "Epoch 15/30\n",
            "1788/1788 [==============================] - 18s 10ms/step - loss: 2.3112 - accuracy: 0.5035\n",
            "Epoch 16/30\n",
            "1788/1788 [==============================] - 18s 10ms/step - loss: 2.1695 - accuracy: 0.5301\n",
            "Epoch 17/30\n",
            "1788/1788 [==============================] - 17s 10ms/step - loss: 2.0436 - accuracy: 0.5550\n",
            "Epoch 18/30\n",
            "1788/1788 [==============================] - 18s 10ms/step - loss: 1.9289 - accuracy: 0.5794\n",
            "Epoch 19/30\n",
            "1788/1788 [==============================] - 18s 10ms/step - loss: 1.8256 - accuracy: 0.5977\n",
            "Epoch 20/30\n",
            "1788/1788 [==============================] - 18s 10ms/step - loss: 1.7295 - accuracy: 0.6186\n",
            "Epoch 21/30\n",
            "1788/1788 [==============================] - 18s 10ms/step - loss: 1.6449 - accuracy: 0.6349\n",
            "Epoch 22/30\n",
            "1788/1788 [==============================] - 18s 10ms/step - loss: 1.5668 - accuracy: 0.6522\n",
            "Epoch 23/30\n",
            "1788/1788 [==============================] - 18s 10ms/step - loss: 1.4955 - accuracy: 0.6670\n",
            "Epoch 24/30\n",
            "1788/1788 [==============================] - 17s 10ms/step - loss: 1.4327 - accuracy: 0.6791\n",
            "Epoch 25/30\n",
            "1788/1788 [==============================] - 18s 10ms/step - loss: 1.3741 - accuracy: 0.6924\n",
            "Epoch 26/30\n",
            "1788/1788 [==============================] - 18s 10ms/step - loss: 1.3224 - accuracy: 0.7016\n",
            "Epoch 27/30\n",
            "1788/1788 [==============================] - 18s 10ms/step - loss: 1.2761 - accuracy: 0.7112\n",
            "Epoch 28/30\n",
            "1788/1788 [==============================] - 18s 10ms/step - loss: 1.2351 - accuracy: 0.7193\n",
            "Epoch 29/30\n",
            "1788/1788 [==============================] - 18s 10ms/step - loss: 1.1959 - accuracy: 0.7270\n",
            "Epoch 30/30\n",
            "1788/1788 [==============================] - 18s 10ms/step - loss: 1.1625 - accuracy: 0.7331\n"
          ]
        }
      ],
      "source": [
        "\n",
        "model.compile(loss='categorical_crossentropy', optimizer='adam', metrics=['accuracy'])\n",
        "history = model.fit(X, y, epochs=30, verbose=1)"
      ]
    },
    {
      "cell_type": "code",
      "execution_count": 17,
      "metadata": {
        "colab": {
          "base_uri": "https://localhost:8080/"
        },
        "id": "IUOa5kBX7ZqR",
        "outputId": "65316d49-29f8-4dcd-abe6-30c1aa03c6e8"
      },
      "outputs": [
        {
          "output_type": "stream",
          "name": "stderr",
          "text": [
            "/usr/local/lib/python3.10/dist-packages/keras/src/engine/training.py:3103: UserWarning: You are saving your model as an HDF5 file via `model.save()`. This file format is considered legacy. We recommend using instead the native Keras format, e.g. `model.save('my_model.keras')`.\n",
            "  saving_api.save_model(\n"
          ]
        }
      ],
      "source": [
        "# Сохранение модели\n",
        "model.save('/content/drive/MyDrive/trained_model.h5')\n"
      ]
    },
    {
      "cell_type": "code",
      "execution_count": null,
      "metadata": {
        "id": "jhKgVFSu7b-3"
      },
      "outputs": [],
      "source": [
        "# Загрузка модели\n",
        "model = load_model('/content/drive/MyDrive/trained_model.h5')"
      ]
    },
    {
      "cell_type": "markdown",
      "source": [
        "# Графики метрик"
      ],
      "metadata": {
        "id": "zw6bH8gChUxF"
      }
    },
    {
      "cell_type": "code",
      "source": [
        "import matplotlib.pyplot as plt\n",
        "plt.figure(figsize=(12, 4))\n",
        "\n",
        "plt.subplot(1, 2, 1)\n",
        "plt.plot(history.history['loss'], label='Loss')\n",
        "plt.xlabel('Epoch')\n",
        "plt.ylabel('Loss')\n",
        "plt.title('Training Loss')\n",
        "plt.legend()\n",
        "\n",
        "plt.subplot(1, 2, 2)\n",
        "plt.plot(history.history['accuracy'], label='Accuracy')\n",
        "plt.xlabel('Epoch')\n",
        "plt.ylabel('Accuracy')\n",
        "plt.title('Training Accuracy')\n",
        "plt.legend()\n",
        "\n",
        "plt.tight_layout()\n",
        "plt.show()"
      ],
      "metadata": {
        "colab": {
          "base_uri": "https://localhost:8080/",
          "height": 407
        },
        "id": "mC0FLY19cdB_",
        "outputId": "94ed4def-a680-49aa-cf2f-aa02f797e3ff"
      },
      "execution_count": 18,
      "outputs": [
        {
          "output_type": "display_data",
          "data": {
            "text/plain": [
              "<Figure size 1200x400 with 2 Axes>"
            ],
            "image/png": "[encoded data removed]"
          },
          "metadata": {}
        }
      ]
    },
    {
      "cell_type": "markdown",
      "source": [
        "# Пример использования"
      ],
      "metadata": {
        "id": "Pgdn-vB3hfZZ"
      }
    },
    {
      "cell_type": "code",
      "execution_count": 19,
      "metadata": {
        "colab": {
          "base_uri": "https://localhost:8080/"
        },
        "id": "8HwE0_gq7TuM",
        "outputId": "ae2a8b2c-7346-4ca3-e8b0-2e08b6f9a3a3"
      },
      "outputs": [
        {
          "output_type": "stream",
          "name": "stdout",
          "text": [
            "What if we show us the lie detector rules might be an\n"
          ]
        }
      ],
      "source": [
        "# Генерация текста\n",
        "def generate_text(seed_text, next_words, max_sequence_len, temperature=1.0):\n",
        "    for _ in range(next_words):\n",
        "        token_list = tokenizer.texts_to_sequences([seed_text])[0]\n",
        "        token_list = pad_sequences([token_list], maxlen=max_sequence_len-1, padding='pre')\n",
        "        predictions = model.predict(token_list, verbose=0)\n",
        "\n",
        "        # Применение температуры\n",
        "        predictions = np.asarray(predictions).astype('float64')\n",
        "        predictions = np.log(predictions + 1e-7) / temperature\n",
        "        exp_predictions = np.exp(predictions)\n",
        "        predictions = exp_predictions / np.sum(exp_predictions)\n",
        "\n",
        "\n",
        "        predicted = np.random.choice(range(total_words), p=predictions.ravel())\n",
        "\n",
        "        output_word = \"\"\n",
        "        for word, index in tokenizer.word_index.items():\n",
        "            if index == predicted:\n",
        "                output_word = word\n",
        "                break\n",
        "        seed_text += \" \" + output_word\n",
        "    return seed_text\n",
        "\n",
        "# Пример генерации текста\n",
        "generated_text = generate_text(\"What if\", 10, max_sequence_len, temperature=1.0)\n",
        "print(generated_text)"
      ]
    },
    {
      "cell_type": "markdown",
      "source": [
        "Процесс обучения модели на текстовых данных показал хорошие результаты: функция потерь постепенно уменьшалась, а точность увеличивалась, что свидетельствует об улучшении качества модели.\n",
        "Однако в процессе работы я столкнулся с ограниченными техническими возможностями своего компьютера. ПК имеет ограниченную оперативную память и вычислительные ресурсы, что замедляло процесс обучения, ограничивало возможность использования больших объемов данных и конечно влияло на точность.\n",
        "Также я использовал такой гиперпараметр, как температура, которая влияет на процесс генерации текста: она позволяет регулировать степень случайности при создании текста. При высокой температуре модель генерирует более разнообразные и менее предсказуемые ответы, а при низкой температуре ответы становятся более однообразными и предсказуемыми. Это помогает сделать так, чтобы при каждом запуске модель генерировала разные результаты, добавляя элемент разнообразия."
      ],
      "metadata": {
        "id": "2uYiAdywkpqZ"
      }
    }
  ],
  "metadata": {
    "accelerator": "GPU",
    "colab": {
      "gpuType": "T4",
      "provenance": []
    },
    "kernelspec": {
      "display_name": "Python 3",
      "name": "python3"
    },
    "language_info": {
      "name": "python"
    }
  },
  "nbformat": 4,
  "nbformat_minor": 0
}