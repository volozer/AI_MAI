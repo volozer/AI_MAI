{
 "cells": [
  {
   "cell_type": "code",
   "execution_count": 15,
   "id": "1bda6ea5-bc4f-47cf-9b10-44e641f90572",
   "metadata": {},
   "outputs": [],
   "source": [
    "import pandas as pd\n",
    "import numpy as np\n",
    "import tensorflow as tf\n",
    "from tensorflow.keras.preprocessing.text import Tokenizer\n",
    "from tensorflow.keras.preprocessing.sequence import pad_sequences\n",
    "from tensorflow.keras.models import Sequential, load_model\n",
    "from tensorflow.keras.layers import Embedding, SimpleRNN, Dense, Dropout"
   ]
  },
  {
   "cell_type": "markdown",
   "id": "1e0eeeac-7ca1-4846-8b62-e43d792a2573",
   "metadata": {},
   "source": [
    "### Загрузка датасета"
   ]
  },
  {
   "cell_type": "code",
   "execution_count": 5,
   "id": "8f4d41cb-95fd-49ab-95ee-87ca07d94b2f",
   "metadata": {},
   "outputs": [],
   "source": [
    "data = pd.read_csv('C:\\\\Users\\\\derev\\\\Downloads\\\\movies_subtitles.csv')"
   ]
  },
  {
   "cell_type": "markdown",
   "id": "aac55e92-6632-4065-a533-68ff35e014b4",
   "metadata": {},
   "source": [
    "### Обработка датасета"
   ]
  },
  {
   "cell_type": "code",
   "execution_count": 6,
   "id": "defc7ed0-f1b3-404f-8e41-2d4a0d5eb84d",
   "metadata": {},
   "outputs": [],
   "source": [
    "# Предобработка данных: удаление пропущенных значений\n",
    "data['text'] = data['text'].fillna('')\n",
    "\n",
    "# Уменьшение размера данных: использование только первых 10000 строк\n",
    "data = data.head(10000)\n",
    "\n",
    "# Объединение всех текстов в один\n",
    "text = ' '.join(data['text'].values.tolist())\n"
   ]
  },
  {
   "cell_type": "markdown",
   "id": "3f28f7f8-63e2-45a1-9599-84c0bd602123",
   "metadata": {},
   "source": [
    "### Токенизация по символам"
   ]
  },
  {
   "cell_type": "code",
   "execution_count": 7,
   "id": "2303db82-51c3-4b3f-b37f-cf4e5dc3c774",
   "metadata": {},
   "outputs": [],
   "source": [
    "tokenizer = Tokenizer(char_level=True)\n",
    "tokenizer.fit_on_texts([text])\n",
    "total_chars = len(tokenizer.word_index) + 1"
   ]
  },
  {
   "cell_type": "markdown",
   "id": "8b85d9a3-69f3-4548-8fa7-d8543d3061a7",
   "metadata": {},
   "source": [
    "### Создание обучающих последовательностей"
   ]
  },
  {
   "cell_type": "code",
   "execution_count": 8,
   "id": "ebb3482f-773e-4b28-99e0-ea63d2b862cc",
   "metadata": {},
   "outputs": [],
   "source": [
    "input_sequences = []\n",
    "for line in data['text'].values.tolist():\n",
    "    token_list = tokenizer.texts_to_sequences([line])[0]\n",
    "    for i in range(1, len(token_list)):\n",
    "        n_gram_sequence = token_list[:i+1]\n",
    "        input_sequences.append(n_gram_sequence)"
   ]
  },
  {
   "cell_type": "code",
   "execution_count": 9,
   "id": "d9fafb14-45d6-4dad-a0a7-cb2ed3702b4e",
   "metadata": {},
   "outputs": [],
   "source": [
    "# Определение максимальной длины последовательности\n",
    "max_sequence_len = max([len(x) for x in input_sequences])\n",
    "\n",
    "# Паддинг последовательностей\n",
    "input_sequences = np.array(pad_sequences(input_sequences, maxlen=max_sequence_len, padding='pre'))\n",
    "\n",
    "# Создание входных и выходных данных\n",
    "X, y = input_sequences[:,:-1], input_sequences[:,-1]\n",
    "y = tf.keras.utils.to_categorical(y, num_classes=total_chars)"
   ]
  },
  {
   "cell_type": "markdown",
   "id": "7ccccef9-4e0b-4650-8839-45fc01c93dc7",
   "metadata": {},
   "source": [
    "### Определение модели"
   ]
  },
  {
   "cell_type": "code",
   "execution_count": null,
   "id": "eb5390dc-d367-4292-907d-5db23ee5027a",
   "metadata": {},
   "outputs": [],
   "source": [
    "model = Sequential()\n",
    "model.add(Embedding(total_chars, 100))\n",
    "model.add(SimpleRNN(150, return_sequences=False))\n",
    "model.add(Dense(total_chars, activation='softmax'))"
   ]
  },
  {
   "cell_type": "markdown",
   "id": "2a431e94-c401-4870-8f0a-f779cdc82f3e",
   "metadata": {},
   "source": [
    "### Компиляция модели"
   ]
  },
  {
   "cell_type": "code",
   "execution_count": 22,
   "id": "e9cfcd95-9302-4b6a-a805-b0396a27840d",
   "metadata": {},
   "outputs": [],
   "source": [
    "model.compile(loss='categorical_crossentropy', optimizer='adam', metrics=['accuracy'])"
   ]
  },
  {
   "cell_type": "markdown",
   "id": "e8052d97-266f-47c8-a093-317e902012bf",
   "metadata": {},
   "source": [
    "### Обучение"
   ]
  },
  {
   "cell_type": "code",
   "execution_count": 23,
   "id": "0a27c2fa-ff2b-4cce-801a-f20dbfaa4ff1",
   "metadata": {},
   "outputs": [
    {
     "name": "stdout",
     "output_type": "stream",
     "text": [
      "Epoch 1/30\n",
      "\u001b[1m10736/10736\u001b[0m \u001b[32m━━━━━━━━━━━━━━━━━━━━\u001b[0m\u001b[37m\u001b[0m \u001b[1m165s\u001b[0m 15ms/step - accuracy: 0.3503 - loss: 2.2655\n",
      "Epoch 2/30\n",
      "\u001b[1m10736/10736\u001b[0m \u001b[32m━━━━━━━━━━━━━━━━━━━━\u001b[0m\u001b[37m\u001b[0m \u001b[1m174s\u001b[0m 16ms/step - accuracy: 0.4718 - loss: 1.7570\n",
      "Epoch 3/30\n",
      "\u001b[1m10736/10736\u001b[0m \u001b[32m━━━━━━━━━━━━━━━━━━━━\u001b[0m\u001b[37m\u001b[0m \u001b[1m171s\u001b[0m 16ms/step - accuracy: 0.4952 - loss: 1.6633\n",
      "Epoch 4/30\n",
      "\u001b[1m10736/10736\u001b[0m \u001b[32m━━━━━━━━━━━━━━━━━━━━\u001b[0m\u001b[37m\u001b[0m \u001b[1m184s\u001b[0m 17ms/step - accuracy: 0.5081 - loss: 1.6187\n",
      "Epoch 5/30\n",
      "\u001b[1m10736/10736\u001b[0m \u001b[32m━━━━━━━━━━━━━━━━━━━━\u001b[0m\u001b[37m\u001b[0m \u001b[1m193s\u001b[0m 18ms/step - accuracy: 0.5157 - loss: 1.5899\n",
      "Epoch 6/30\n",
      "\u001b[1m10736/10736\u001b[0m \u001b[32m━━━━━━━━━━━━━━━━━━━━\u001b[0m\u001b[37m\u001b[0m \u001b[1m190s\u001b[0m 18ms/step - accuracy: 0.5185 - loss: 1.5761\n",
      "Epoch 7/30\n",
      "\u001b[1m10736/10736\u001b[0m \u001b[32m━━━━━━━━━━━━━━━━━━━━\u001b[0m\u001b[37m\u001b[0m \u001b[1m186s\u001b[0m 17ms/step - accuracy: 0.5230 - loss: 1.5626\n",
      "Epoch 8/30\n",
      "\u001b[1m10736/10736\u001b[0m \u001b[32m━━━━━━━━━━━━━━━━━━━━\u001b[0m\u001b[37m\u001b[0m \u001b[1m198s\u001b[0m 18ms/step - accuracy: 0.5243 - loss: 1.5540\n",
      "Epoch 9/30\n",
      "\u001b[1m10736/10736\u001b[0m \u001b[32m━━━━━━━━━━━━━━━━━━━━\u001b[0m\u001b[37m\u001b[0m \u001b[1m187s\u001b[0m 17ms/step - accuracy: 0.5242 - loss: 1.5520\n",
      "Epoch 10/30\n",
      "\u001b[1m10736/10736\u001b[0m \u001b[32m━━━━━━━━━━━━━━━━━━━━\u001b[0m\u001b[37m\u001b[0m \u001b[1m142s\u001b[0m 13ms/step - accuracy: 0.5261 - loss: 1.5457\n",
      "Epoch 11/30\n",
      "\u001b[1m10736/10736\u001b[0m \u001b[32m━━━━━━━━━━━━━━━━━━━━\u001b[0m\u001b[37m\u001b[0m \u001b[1m180s\u001b[0m 17ms/step - accuracy: 0.5264 - loss: 1.5440\n",
      "Epoch 12/30\n",
      "\u001b[1m10736/10736\u001b[0m \u001b[32m━━━━━━━━━━━━━━━━━━━━\u001b[0m\u001b[37m\u001b[0m \u001b[1m167s\u001b[0m 15ms/step - accuracy: 0.5279 - loss: 1.5382\n",
      "Epoch 13/30\n",
      "\u001b[1m10736/10736\u001b[0m \u001b[32m━━━━━━━━━━━━━━━━━━━━\u001b[0m\u001b[37m\u001b[0m \u001b[1m146s\u001b[0m 14ms/step - accuracy: 0.5288 - loss: 1.5356\n",
      "Epoch 14/30\n",
      "\u001b[1m10736/10736\u001b[0m \u001b[32m━━━━━━━━━━━━━━━━━━━━\u001b[0m\u001b[37m\u001b[0m \u001b[1m146s\u001b[0m 14ms/step - accuracy: 0.5290 - loss: 1.5330\n",
      "Epoch 15/30\n",
      "\u001b[1m10736/10736\u001b[0m \u001b[32m━━━━━━━━━━━━━━━━━━━━\u001b[0m\u001b[37m\u001b[0m \u001b[1m145s\u001b[0m 13ms/step - accuracy: 0.5270 - loss: 1.5412\n",
      "Epoch 16/30\n",
      "\u001b[1m10736/10736\u001b[0m \u001b[32m━━━━━━━━━━━━━━━━━━━━\u001b[0m\u001b[37m\u001b[0m \u001b[1m142s\u001b[0m 13ms/step - accuracy: 0.5294 - loss: 1.5352\n",
      "Epoch 17/30\n",
      "\u001b[1m10736/10736\u001b[0m \u001b[32m━━━━━━━━━━━━━━━━━━━━\u001b[0m\u001b[37m\u001b[0m \u001b[1m142s\u001b[0m 13ms/step - accuracy: 0.5275 - loss: 1.5390\n",
      "Epoch 18/30\n",
      "\u001b[1m10736/10736\u001b[0m \u001b[32m━━━━━━━━━━━━━━━━━━━━\u001b[0m\u001b[37m\u001b[0m \u001b[1m141s\u001b[0m 13ms/step - accuracy: 0.5272 - loss: 1.5405\n",
      "Epoch 19/30\n",
      "\u001b[1m10736/10736\u001b[0m \u001b[32m━━━━━━━━━━━━━━━━━━━━\u001b[0m\u001b[37m\u001b[0m \u001b[1m142s\u001b[0m 13ms/step - accuracy: 0.5279 - loss: 1.5387\n",
      "Epoch 20/30\n",
      "\u001b[1m10736/10736\u001b[0m \u001b[32m━━━━━━━━━━━━━━━━━━━━\u001b[0m\u001b[37m\u001b[0m \u001b[1m142s\u001b[0m 13ms/step - accuracy: 0.5256 - loss: 1.5409\n",
      "Epoch 21/30\n",
      "\u001b[1m10736/10736\u001b[0m \u001b[32m━━━━━━━━━━━━━━━━━━━━\u001b[0m\u001b[37m\u001b[0m \u001b[1m205s\u001b[0m 19ms/step - accuracy: 0.5224 - loss: 1.5551\n",
      "Epoch 25/30\n",
      "\u001b[1m10736/10736\u001b[0m \u001b[32m━━━━━━━━━━━━━━━━━━━━\u001b[0m\u001b[37m\u001b[0m \u001b[1m174s\u001b[0m 16ms/step - accuracy: 0.5216 - loss: 1.5565\n",
      "Epoch 26/30\n",
      "\u001b[1m10736/10736\u001b[0m \u001b[32m━━━━━━━━━━━━━━━━━━━━\u001b[0m\u001b[37m\u001b[0m \u001b[1m171s\u001b[0m 16ms/step - accuracy: 0.5205 - loss: 1.5631\n",
      "Epoch 27/30\n",
      "\u001b[1m10736/10736\u001b[0m \u001b[32m━━━━━━━━━━━━━━━━━━━━\u001b[0m\u001b[37m\u001b[0m \u001b[1m174s\u001b[0m 16ms/step - accuracy: 0.5210 - loss: 1.5600\n",
      "Epoch 28/30\n",
      "\u001b[1m10736/10736\u001b[0m \u001b[32m━━━━━━━━━━━━━━━━━━━━\u001b[0m\u001b[37m\u001b[0m \u001b[1m220s\u001b[0m 20ms/step - accuracy: 0.5188 - loss: 1.5698\n",
      "Epoch 29/30\n",
      "\u001b[1m10736/10736\u001b[0m \u001b[32m━━━━━━━━━━━━━━━━━━━━\u001b[0m\u001b[37m\u001b[0m \u001b[1m232s\u001b[0m 22ms/step - accuracy: 0.5170 - loss: 1.5715\n",
      "Epoch 30/30\n",
      "\u001b[1m10736/10736\u001b[0m \u001b[32m━━━━━━━━━━━━━━━━━━━━\u001b[0m\u001b[37m\u001b[0m \u001b[1m176s\u001b[0m 16ms/step - accuracy: 0.5188 - loss: 1.5748\n"
     ]
    }
   ],
   "source": [
    "# Тренировка модели\n",
    "history = model.fit(X, y, epochs=30, verbose=1)"
   ]
  },
  {
   "cell_type": "markdown",
   "id": "8fca750d-0be9-4789-820a-e8ef8a034f48",
   "metadata": {},
   "source": [
    "### Метрики"
   ]
  },
  {
   "cell_type": "code",
   "execution_count": 24,
   "id": "6be7d7a4-efce-44aa-a875-f23fb025cd37",
   "metadata": {},
   "outputs": [
    {
     "data": {
      "image/png": "[encoded data removed]",
      "text/plain": [
       "<Figure size 1200x600 with 2 Axes>"
      ]
     },
     "metadata": {},
     "output_type": "display_data"
    }
   ],
   "source": [
    "import matplotlib.pyplot as plt\n",
    "\n",
    "def plot_history(history):\n",
    "    acc = history.history['accuracy']\n",
    "    loss = history.history['loss']\n",
    "    epochs = range(1, len(acc) + 1)\n",
    "\n",
    "    plt.figure(figsize=(12, 6))\n",
    "\n",
    "    plt.subplot(1, 2, 1)\n",
    "    plt.plot(epochs, acc, 'b', label='Точность обучения')\n",
    "    plt.title('Точность обучения')\n",
    "    plt.xlabel('Эпохи')\n",
    "    plt.ylabel('Точность')\n",
    "    plt.legend()\n",
    "\n",
    "    plt.subplot(1, 2, 2)\n",
    "    plt.plot(epochs, loss, 'b', label='Потери при обучении')\n",
    "    plt.title('Потери при обучении')\n",
    "    plt.xlabel('Эпохи')\n",
    "    plt.ylabel('Потери')\n",
    "    plt.legend()\n",
    "\n",
    "    plt.show()\n",
    "\n",
    "plot_history(history)"
   ]
  },
  {
   "cell_type": "code",
   "execution_count": 25,
   "id": "8f9c516c-3f6c-4815-a943-ac11c016abcf",
   "metadata": {},
   "outputs": [
    {
     "name": "stdout",
     "output_type": "stream",
     "text": [
      "Loss: 1.5677452087402344, Accuracy: 0.5175226330757141\n"
     ]
    }
   ],
   "source": [
    "loss, accuracy = model.evaluate(X, y, verbose=0)\n",
    "print(f'Loss: {loss}, Accuracy: {accuracy}')"
   ]
  },
  {
   "cell_type": "markdown",
   "id": "53c98042-e622-472f-bc57-59dbe4b1accd",
   "metadata": {},
   "source": [
    "### Генерация текста"
   ]
  },
  {
   "cell_type": "code",
   "execution_count": 26,
   "id": "2ac594ef-9eb2-4d8a-87b5-3a1f5c53466a",
   "metadata": {},
   "outputs": [],
   "source": [
    "# Генерация текста\n",
    "def generate_text(seed_text, next_words, max_sequence_len):\n",
    "    for _ in range(next_words):\n",
    "        token_list = tokenizer.texts_to_sequences([seed_text])[0]\n",
    "        token_list = pad_sequences([token_list], maxlen=max_sequence_len-1, padding='pre')\n",
    "        predicted = model.predict(token_list, verbose=0)\n",
    "        predicted_char_index = np.argmax(predicted, axis=1)[0]\n",
    "        predicted_char = tokenizer.index_word[predicted_char_index]\n",
    "        seed_text += predicted_char\n",
    "    return seed_text"
   ]
  },
  {
   "cell_type": "code",
   "execution_count": 31,
   "id": "6ffbc10a-c56a-4c8d-b2d9-09133fc63862",
   "metadata": {},
   "outputs": [
    {
     "name": "stdout",
     "output_type": "stream",
     "text": [
      "His world be a little good one of the staring the staring the staring the staring the staring the star\n"
     ]
    }
   ],
   "source": [
    "# Пример генерации текста\n",
    "seed_text = \"Hi\"\n",
    "next_words = 100\n",
    "print(generate_text(seed_text, next_words, max_sequence_len))"
   ]
  },
  {
   "cell_type": "markdown",
   "id": "084ad99c-a0a2-4b23-b5a0-5b1dfd96bf58",
   "metadata": {},
   "source": [
    "Как можно увидеть, у модели вышла достаточно низкая точность и высокие потери, но, к сожалению, вычислительной мощности моего ноутбука не хватает на то, чтобы обучить ее лучше. При добавлении слоев в модель результат выходил еще хуже, точность падала, пока потери росли. С не очень удачным обучением связан и результат генерации, зацикливающийся на одних и тех же словах."
   ]
  }
 ],
 "metadata": {
  "kernelspec": {
   "display_name": "Python 3 (ipykernel)",
   "language": "python",
   "name": "python3"
  },
  "language_info": {
   "codemirror_mode": {
    "name": "ipython",
    "version": 3
   },
   "file_extension": ".py",
   "mimetype": "text/x-python",
   "name": "python",
   "nbconvert_exporter": "python",
   "pygments_lexer": "ipython3",
   "version": "3.11.8"
  }
 },
 "nbformat": 4,
 "nbformat_minor": 5
}
